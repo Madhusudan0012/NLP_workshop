{
 "cells": [
  {
   "cell_type": "code",
   "execution_count": 6,
   "metadata": {},
   "outputs": [],
   "source": [
    "from sklearn.feature_extraction.text import TfidfVectorizer # type: ignore\n",
    "from sklearn.metrics.pairwise import cosine_similarity  # type: ignore\n",
    "# from sklearn\n",
    "documents = [\n",
    "    \"A machine is a device or system that uses energy to perform a specific function, making tasks easier, faster, and often more efficient.\" , \n",
    "    \"Machines can range from simple mechanisms like levers and pulleys to complex systems like computers, robots, and industrial equipment. They often work by converting various forms of energy—mechanical, electrical, or thermal—into useful output to complete specific tasks. Machines have revolutionized human life, helping in everything from transportation and construction to communication and healthcare.\"\n",
    "]"
   ]
  },
  {
   "cell_type": "code",
   "execution_count": 7,
   "metadata": {},
   "outputs": [],
   "source": [
    "query =\"machine is one of the best device to use\""
   ]
  },
  {
   "cell_type": "code",
   "execution_count": 8,
   "metadata": {},
   "outputs": [
    {
     "name": "stdout",
     "output_type": "stream",
     "text": [
      "Query machine is one of the best device to use\n",
      "\n",
      "Ranked Documents (most relevant first:\n",
      " )\n",
      "Document 1 : (documents[idx]) (Similarity:  0.4061)\n",
      "Document 2 : (documents[idx]) (Similarity:  0.1481)\n"
     ]
    }
   ],
   "source": [
    "vectorizer  =  TfidfVectorizer()\n",
    "tfidf_matrix = vectorizer.fit_transform(documents)\n",
    "query_vector = vectorizer.transform([query])\n",
    "\n",
    "cosine_similarity = cosine_similarity(query_vector , tfidf_matrix)\n",
    "\n",
    "ranked_documents = cosine_similarity[0].argsort()[::-1]\n",
    "\n",
    "print(\"Query\" , query)\n",
    "print(\"\\nRanked Documents (most relevant first:\\n )\")\n",
    "for idx in ranked_documents:\n",
    "    print(f\"Document {idx+1} : (documents[idx]) (Similarity: {cosine_similarity[0][idx]: .4f})\" )\n"
   ]
  }
 ],
 "metadata": {
  "kernelspec": {
   "display_name": "Python 3",
   "language": "python",
   "name": "python3"
  },
  "language_info": {
   "codemirror_mode": {
    "name": "ipython",
    "version": 3
   },
   "file_extension": ".py",
   "mimetype": "text/x-python",
   "name": "python",
   "nbconvert_exporter": "python",
   "pygments_lexer": "ipython3",
   "version": "3.12.5"
  }
 },
 "nbformat": 4,
 "nbformat_minor": 2
}
