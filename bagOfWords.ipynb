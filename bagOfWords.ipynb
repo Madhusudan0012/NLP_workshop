{
 "cells": [
  {
   "cell_type": "markdown",
   "metadata": {},
   "source": [
    "Bag of Words \n"
   ]
  },
  {
   "cell_type": "code",
   "execution_count": null,
   "metadata": {},
   "outputs": [
    {
     "name": "stdout",
     "output_type": "stream",
     "text": [
      "   learningi  love  machine  python\n",
      "0          1     2        1       1\n"
     ]
    }
   ],
   "source": [
    "from sklearn.feature_extraction.text import CountVectorizer # type: ignore\n",
    "import pandas as pd # type: ignore\n",
    "documents = [\n",
    "    \"I love machine learning\"\n",
    "    \"I love Python\"\n",
    "]\n",
    "\n",
    "vectorizer = CountVectorizer()\n",
    "vectorizer = TfidfVectorizer()\n",
    "X = vectorizer.fit_transform(documents)\n",
    "df = pd.DataFrame(X.toarray() , columns=vectorizer.get_feature_names_out())\n",
    "print(df)"
   ]
  },
  {
   "cell_type": "code",
   "execution_count": 11,
   "metadata": {},
   "outputs": [
    {
     "name": "stdout",
     "output_type": "stream",
     "text": [
      "Count Vectorizer:\n",
      "    learning  love  machine  python\n",
      "0         1     1        1       0\n",
      "1         0     1        0       1\n",
      "\n",
      "TF-IDF Vectorizer:\n",
      "    learning      love   machine    python\n",
      "0  0.631667  0.449436  0.631667  0.000000\n",
      "1  0.000000  0.579739  0.000000  0.814802\n"
     ]
    }
   ],
   "source": [
    "from sklearn.feature_extraction.text import CountVectorizer  # type: ignore\n",
    "from sklearn.feature_extraction.text import TfidfVectorizer  # type: ignore\n",
    "import pandas as pd  # type: ignore\n",
    "\n",
    "documents = [\n",
    "    \"I love machine learning\",\n",
    "    \"I love Python\"\n",
    "]\n",
    "\n",
    "# Using CountVectorizer\n",
    "vectorizer = CountVectorizer()\n",
    "X = vectorizer.fit_transform(documents)\n",
    "df_count = pd.DataFrame(X.toarray(), columns=vectorizer.get_feature_names_out())\n",
    "\n",
    "# Using TfidfVectorizer\n",
    "vectorizer = TfidfVectorizer()\n",
    "X = vectorizer.fit_transform(documents)\n",
    "df_tfidf = pd.DataFrame(X.toarray(), columns=vectorizer.get_feature_names_out())\n",
    "\n",
    "print(\"Count Vectorizer:\\n\", df_count)\n",
    "print(\"\\nTF-IDF Vectorizer:\\n\", df_tfidf)\n"
   ]
  },
  {
   "cell_type": "markdown",
   "metadata": {},
   "source": [
    "One-Hot Encoding !!"
   ]
  },
  {
   "cell_type": "code",
   "execution_count": 12,
   "metadata": {},
   "outputs": [],
   "source": [
    "data = pd.DataFrame({\n",
    "    'Color' : ['Red' , 'Blue' , 'Green' , 'Blue']\n",
    "})"
   ]
  },
  {
   "cell_type": "code",
   "execution_count": 14,
   "metadata": {},
   "outputs": [
    {
     "name": "stdout",
     "output_type": "stream",
     "text": [
      "   Color_Blue  Color_Green  Color_Red\n",
      "0       False        False       True\n",
      "1        True        False      False\n",
      "2       False         True      False\n",
      "3        True        False      False\n"
     ]
    }
   ],
   "source": [
    "data_encoded = pd.get_dummies(data , columns=['Color'])\n",
    "print(data_encoded)"
   ]
  },
  {
   "cell_type": "markdown",
   "metadata": {},
   "source": [
    "One-Hot encoding with sklearn \n"
   ]
  },
  {
   "cell_type": "code",
   "execution_count": 19,
   "metadata": {},
   "outputs": [
    {
     "name": "stdout",
     "output_type": "stream",
     "text": [
      "Original Employee Data:\n",
      "   Employee id Gender  Remarks\n",
      "0           10      M     Good\n",
      "1           20      F     Nice\n",
      "2           15      F     Good\n",
      "3           25      M    Great\n",
      "4           30      F  Correct\n",
      "\n",
      "Categorical columns: ['Gender', 'Remarks']\n",
      "One-hot encoded Data using Pandas:\n",
      "   Employee id  Gender_M  Remarks_Good  Remarks_Great  Remarks_Nice\n",
      "0           10      True          True          False         False\n",
      "1           20     False         False          False          True\n",
      "2           15     False          True          False         False\n",
      "3           25      True         False           True         False\n",
      "4           30     False         False          False         False\n",
      "\n",
      "One-hot encoded Data using sklearn:\n",
      "   Employee id  Gender_M  Remarks_Good  Remarks_Great  Remarks_Nice\n",
      "0           10       1.0           1.0            0.0           0.0\n",
      "1           20       0.0           0.0            0.0           1.0\n",
      "2           15       0.0           1.0            0.0           0.0\n",
      "3           25       1.0           0.0            1.0           0.0\n",
      "4           30       0.0           0.0            0.0           0.0\n",
      "\n"
     ]
    }
   ],
   "source": [
    "import pandas as pd\n",
    "from sklearn.preprocessing import OneHotEncoder\n",
    "\n",
    "data = {\n",
    "    'Employee id': [10, 20, 15, 25, 30],\n",
    "    'Gender': ['M', 'F', 'F', 'M', 'F'],\n",
    "    'Remarks': ['Good', 'Nice', 'Good', 'Great', 'Correct']\n",
    "}\n",
    "\n",
    "df = pd.DataFrame(data)\n",
    "print(f\"Original Employee Data:\\n{df}\\n\")\n",
    "\n",
    "categorical_columns = ['Gender', 'Remarks']\n",
    "print(f\"Categorical columns: {categorical_columns}\")\n",
    "\n",
    "# Using pd.get_dummies for one-hot encoding\n",
    "df_pandas_encoded = pd.get_dummies(df, columns=categorical_columns, drop_first=True)\n",
    "print(f\"One-hot encoded Data using Pandas:\\n{df_pandas_encoded}\\n\")\n",
    "\n",
    "# Using OneHotEncoder from sklearn\n",
    "encoder = OneHotEncoder(sparse_output=False, drop='first')\n",
    "encoded_array = encoder.fit_transform(df[categorical_columns])\n",
    "encoded_df = pd.DataFrame(encoded_array, columns=encoder.get_feature_names_out(categorical_columns))\n",
    "\n",
    "# Concatenate the encoded columns with the original dataframe (excluding the original categorical columns)\n",
    "df_sklearn_encoded = pd.concat([df.drop(columns=categorical_columns), encoded_df], axis=1)\n",
    "print(f\"One-hot encoded Data using sklearn:\\n{df_sklearn_encoded}\\n\")\n"
   ]
  },
  {
   "cell_type": "markdown",
   "metadata": {},
   "source": [
    "Spacy Library !!!\n"
   ]
  },
  {
   "cell_type": "code",
   "execution_count": 2,
   "metadata": {},
   "outputs": [
    {
     "name": "stdout",
     "output_type": "stream",
     "text": [
      "Tokens(Spacy): ['Hello', ',', 'My', 'Self', 'Madhusudan', 'Singh', 'Chauhan', 'and', 'I', \"'m\", 'doing', 'coding', 'just', 'to', 'travel', 'another', 'countries', 'and', 'build', 'home']\n"
     ]
    }
   ],
   "source": [
    "import spacy  # type: ignore\n",
    "nlp = spacy.load(\"en_core_web_sm\")\n",
    "\n",
    "text = \"Hello, My Self Madhusudan Singh Chauhan and I'm doing coding just to travel another countries and build home\"\n",
    "\n",
    "doc = nlp(text)\n",
    "spacy_tokenss = [token.text for token in doc]\n",
    "print(\"Tokens(Spacy):\" , spacy_tokenss)\n",
    "\n"
   ]
  },
  {
   "cell_type": "markdown",
   "metadata": {},
   "source": []
  }
 ],
 "metadata": {
  "kernelspec": {
   "display_name": "Python 3",
   "language": "python",
   "name": "python3"
  },
  "language_info": {
   "codemirror_mode": {
    "name": "ipython",
    "version": 3
   },
   "file_extension": ".py",
   "mimetype": "text/x-python",
   "name": "python",
   "nbconvert_exporter": "python",
   "pygments_lexer": "ipython3",
   "version": "3.12.5"
  }
 },
 "nbformat": 4,
 "nbformat_minor": 2
}
